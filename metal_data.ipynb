{
 "cells": [
  {
   "cell_type": "code",
   "execution_count": 122,
   "id": "48c363da-04f2-4f18-92fa-5e4a74632d2f",
   "metadata": {},
   "outputs": [],
   "source": [
    "import rdkit\n",
    "import numpy as np\n",
    "from rdkit import Chem\n",
    "import pandas as pd\n",
    "import torch\n",
    "import copy\n",
    "import EcConf as ecconf"
   ]
  },
  {
   "cell_type": "code",
   "execution_count": 203,
   "id": "ea3b68fe-7b5a-49a7-911c-36cc430f25d8",
   "metadata": {},
   "outputs": [
    {
     "data": {
      "text/html": [
       "<div>\n",
       "<style scoped>\n",
       "    .dataframe tbody tr th:only-of-type {\n",
       "        vertical-align: middle;\n",
       "    }\n",
       "\n",
       "    .dataframe tbody tr th {\n",
       "        vertical-align: top;\n",
       "    }\n",
       "\n",
       "    .dataframe thead th {\n",
       "        text-align: right;\n",
       "    }\n",
       "</style>\n",
       "<table border=\"1\" class=\"dataframe\">\n",
       "  <thead>\n",
       "    <tr style=\"text-align: right;\">\n",
       "      <th></th>\n",
       "      <th>Unnamed: 0</th>\n",
       "      <th>Ligand_mol2_Strings</th>\n",
       "      <th>Ligand_mol2_Strings_without_X</th>\n",
       "      <th>Ligand_mol2_Strings_without_H</th>\n",
       "      <th>Ligand_mol2_Strings_without_XH</th>\n",
       "      <th>Ligand_Denticities</th>\n",
       "      <th>Graph_Hash_Ligand</th>\n",
       "      <th>Graph_Hash_Ligand_without_X</th>\n",
       "      <th>Graph_Hash_Ligand_without_H</th>\n",
       "      <th>Graph_Hash_Ligand_without_XH</th>\n",
       "      <th>Hemilabile</th>\n",
       "      <th>Connecting_Atom_Indices</th>\n",
       "      <th>Connecting_Atom_Indices_without_H</th>\n",
       "      <th>Connecting_Atom_Indices_without_X</th>\n",
       "      <th>Connecting_Atom_Indices_without_XH</th>\n",
       "      <th>SMILES_without_X_molsimplify</th>\n",
       "      <th>SMILES_without_X_rdkit</th>\n",
       "      <th>Occurrences</th>\n",
       "    </tr>\n",
       "  </thead>\n",
       "  <tbody>\n",
       "    <tr>\n",
       "      <th>0</th>\n",
       "      <td>0</td>\n",
       "      <td>@&lt;TRIPOS&gt;MOLECULE\\nligand\\n15\\t15\\t1\\nSMALL\\nP...</td>\n",
       "      <td>@&lt;TRIPOS&gt;MOLECULE\\n\\n14\\t14\\t1\\nSMALL\\nPartial...</td>\n",
       "      <td>@&lt;TRIPOS&gt;MOLECULE\\n\\n11\\t11\\t1\\nSMALL\\nPartial...</td>\n",
       "      <td>@&lt;TRIPOS&gt;MOLECULE\\n\\n10\\t10\\t1\\nSMALL\\nPartial...</td>\n",
       "      <td>1</td>\n",
       "      <td>1c7ad85f17b9eff49fe72b778c3c34f6</td>\n",
       "      <td>3e9c127ae89c7d7c70476bc3edd0146d</td>\n",
       "      <td>de1136ccc9f1a20bb65275e3db4200d1</td>\n",
       "      <td>cf794afe3aca095cb66e4686e2c400e9</td>\n",
       "      <td>True</td>\n",
       "      <td>[11]</td>\n",
       "      <td>[7]</td>\n",
       "      <td>[11]</td>\n",
       "      <td>[7]</td>\n",
       "      <td>Clc1cccc(c1)C(=O)[O]</td>\n",
       "      <td>O=C([O-])c1cccc(Cl)c1</td>\n",
       "      <td>33</td>\n",
       "    </tr>\n",
       "    <tr>\n",
       "      <th>1</th>\n",
       "      <td>1</td>\n",
       "      <td>@&lt;TRIPOS&gt;MOLECULE\\nligand\\n4\\t3\\t1\\nSMALL\\nPar...</td>\n",
       "      <td>@&lt;TRIPOS&gt;MOLECULE\\n\\n3\\t2\\t1\\nSMALL\\nPartialCh...</td>\n",
       "      <td>@&lt;TRIPOS&gt;MOLECULE\\n\\n2\\t1\\t1\\nSMALL\\nPartialCh...</td>\n",
       "      <td>@&lt;TRIPOS&gt;MOLECULE\\n\\n1\\t0\\t1\\nSMALL\\nPartialCh...</td>\n",
       "      <td>1</td>\n",
       "      <td>de39b424f3c3457188364891b9317dba</td>\n",
       "      <td>e5206dd18f7e829cf77fae1a48e7b0b9</td>\n",
       "      <td>d4f3d1d61e49aeb0a0ac5b8b146d86cc</td>\n",
       "      <td>de75f5edfabdb0477e652512e4287161</td>\n",
       "      <td>False</td>\n",
       "      <td>[0]</td>\n",
       "      <td>[0]</td>\n",
       "      <td>[0]</td>\n",
       "      <td>[0]</td>\n",
       "      <td>O</td>\n",
       "      <td>O</td>\n",
       "      <td>34348</td>\n",
       "    </tr>\n",
       "    <tr>\n",
       "      <th>2</th>\n",
       "      <td>2</td>\n",
       "      <td>@&lt;TRIPOS&gt;MOLECULE\\nligand\\n21\\t22\\t1\\nSMALL\\nP...</td>\n",
       "      <td>@&lt;TRIPOS&gt;MOLECULE\\n\\n20\\t19\\t1\\nSMALL\\nPartial...</td>\n",
       "      <td>@&lt;TRIPOS&gt;MOLECULE\\n\\n8\\t9\\t1\\nSMALL\\nPartialCh...</td>\n",
       "      <td>@&lt;TRIPOS&gt;MOLECULE\\n\\n7\\t6\\t1\\nSMALL\\nPartialCh...</td>\n",
       "      <td>3</td>\n",
       "      <td>d750f0dd3c8f3f3239ca016adc2e4fd8</td>\n",
       "      <td>03da74c428d73bd0cce03611bc1912b2</td>\n",
       "      <td>4973f8f4fe2953d0cd36790f18f93ec6</td>\n",
       "      <td>0c891e5805b76e96da6ba1df9bddd4b5</td>\n",
       "      <td>True</td>\n",
       "      <td>[1, 4, 13]</td>\n",
       "      <td>[1, 4, 7]</td>\n",
       "      <td>[0, 3, 12]</td>\n",
       "      <td>[0, 3, 6]</td>\n",
       "      <td>NCCNCCN</td>\n",
       "      <td>NCCNCCN</td>\n",
       "      <td>729</td>\n",
       "    </tr>\n",
       "    <tr>\n",
       "      <th>3</th>\n",
       "      <td>3</td>\n",
       "      <td>@&lt;TRIPOS&gt;MOLECULE\\nligand\\n15\\t15\\t1\\nSMALL\\nP...</td>\n",
       "      <td>@&lt;TRIPOS&gt;MOLECULE\\n\\n14\\t14\\t1\\nSMALL\\nPartial...</td>\n",
       "      <td>@&lt;TRIPOS&gt;MOLECULE\\n\\n8\\t8\\t1\\nSMALL\\nPartialCh...</td>\n",
       "      <td>@&lt;TRIPOS&gt;MOLECULE\\n\\n7\\t7\\t1\\nSMALL\\nPartialCh...</td>\n",
       "      <td>1</td>\n",
       "      <td>b96a9c7f7079d2d2d6f17e3c963742ce</td>\n",
       "      <td>6f7dcaf05c67ea0280785c1da69f60be</td>\n",
       "      <td>3f4a40869b0294b5c284a65d20a3b274</td>\n",
       "      <td>92988d01351387cb00626cb5652e8fc3</td>\n",
       "      <td>True</td>\n",
       "      <td>[0]</td>\n",
       "      <td>[0]</td>\n",
       "      <td>[0]</td>\n",
       "      <td>[0]</td>\n",
       "      <td>CC1=CC=[C]C=C1</td>\n",
       "      <td>Cc1cc[c]cc1</td>\n",
       "      <td>175</td>\n",
       "    </tr>\n",
       "    <tr>\n",
       "      <th>4</th>\n",
       "      <td>4</td>\n",
       "      <td>@&lt;TRIPOS&gt;MOLECULE\\nligand\\n12\\t13\\t1\\nSMALL\\nP...</td>\n",
       "      <td>@&lt;TRIPOS&gt;MOLECULE\\n\\n11\\t11\\t1\\nSMALL\\nPartial...</td>\n",
       "      <td>@&lt;TRIPOS&gt;MOLECULE\\n\\n8\\t9\\t1\\nSMALL\\nPartialCh...</td>\n",
       "      <td>@&lt;TRIPOS&gt;MOLECULE\\n\\n7\\t7\\t1\\nSMALL\\nPartialCh...</td>\n",
       "      <td>2</td>\n",
       "      <td>04297c886adca1ea304eed3f9ee37da5</td>\n",
       "      <td>78571a62707b266b7547ec8fad857d32</td>\n",
       "      <td>3e1ceb0125d14567937ae2291ce697a7</td>\n",
       "      <td>e491c8dae119d25956bda1315728fc54</td>\n",
       "      <td>True</td>\n",
       "      <td>[9, 11]</td>\n",
       "      <td>[5, 7]</td>\n",
       "      <td>[9, 10]</td>\n",
       "      <td>[5, 6]</td>\n",
       "      <td>S=C1[CH]C=CC=N1</td>\n",
       "      <td>[S-]c1ccccn1</td>\n",
       "      <td>264</td>\n",
       "    </tr>\n",
       "  </tbody>\n",
       "</table>\n",
       "</div>"
      ],
      "text/plain": [
       "   Unnamed: 0                                Ligand_mol2_Strings  \\\n",
       "0           0  @<TRIPOS>MOLECULE\\nligand\\n15\\t15\\t1\\nSMALL\\nP...   \n",
       "1           1  @<TRIPOS>MOLECULE\\nligand\\n4\\t3\\t1\\nSMALL\\nPar...   \n",
       "2           2  @<TRIPOS>MOLECULE\\nligand\\n21\\t22\\t1\\nSMALL\\nP...   \n",
       "3           3  @<TRIPOS>MOLECULE\\nligand\\n15\\t15\\t1\\nSMALL\\nP...   \n",
       "4           4  @<TRIPOS>MOLECULE\\nligand\\n12\\t13\\t1\\nSMALL\\nP...   \n",
       "\n",
       "                       Ligand_mol2_Strings_without_X  \\\n",
       "0  @<TRIPOS>MOLECULE\\n\\n14\\t14\\t1\\nSMALL\\nPartial...   \n",
       "1  @<TRIPOS>MOLECULE\\n\\n3\\t2\\t1\\nSMALL\\nPartialCh...   \n",
       "2  @<TRIPOS>MOLECULE\\n\\n20\\t19\\t1\\nSMALL\\nPartial...   \n",
       "3  @<TRIPOS>MOLECULE\\n\\n14\\t14\\t1\\nSMALL\\nPartial...   \n",
       "4  @<TRIPOS>MOLECULE\\n\\n11\\t11\\t1\\nSMALL\\nPartial...   \n",
       "\n",
       "                       Ligand_mol2_Strings_without_H  \\\n",
       "0  @<TRIPOS>MOLECULE\\n\\n11\\t11\\t1\\nSMALL\\nPartial...   \n",
       "1  @<TRIPOS>MOLECULE\\n\\n2\\t1\\t1\\nSMALL\\nPartialCh...   \n",
       "2  @<TRIPOS>MOLECULE\\n\\n8\\t9\\t1\\nSMALL\\nPartialCh...   \n",
       "3  @<TRIPOS>MOLECULE\\n\\n8\\t8\\t1\\nSMALL\\nPartialCh...   \n",
       "4  @<TRIPOS>MOLECULE\\n\\n8\\t9\\t1\\nSMALL\\nPartialCh...   \n",
       "\n",
       "                      Ligand_mol2_Strings_without_XH  Ligand_Denticities  \\\n",
       "0  @<TRIPOS>MOLECULE\\n\\n10\\t10\\t1\\nSMALL\\nPartial...                   1   \n",
       "1  @<TRIPOS>MOLECULE\\n\\n1\\t0\\t1\\nSMALL\\nPartialCh...                   1   \n",
       "2  @<TRIPOS>MOLECULE\\n\\n7\\t6\\t1\\nSMALL\\nPartialCh...                   3   \n",
       "3  @<TRIPOS>MOLECULE\\n\\n7\\t7\\t1\\nSMALL\\nPartialCh...                   1   \n",
       "4  @<TRIPOS>MOLECULE\\n\\n7\\t7\\t1\\nSMALL\\nPartialCh...                   2   \n",
       "\n",
       "                  Graph_Hash_Ligand       Graph_Hash_Ligand_without_X  \\\n",
       "0  1c7ad85f17b9eff49fe72b778c3c34f6  3e9c127ae89c7d7c70476bc3edd0146d   \n",
       "1  de39b424f3c3457188364891b9317dba  e5206dd18f7e829cf77fae1a48e7b0b9   \n",
       "2  d750f0dd3c8f3f3239ca016adc2e4fd8  03da74c428d73bd0cce03611bc1912b2   \n",
       "3  b96a9c7f7079d2d2d6f17e3c963742ce  6f7dcaf05c67ea0280785c1da69f60be   \n",
       "4  04297c886adca1ea304eed3f9ee37da5  78571a62707b266b7547ec8fad857d32   \n",
       "\n",
       "        Graph_Hash_Ligand_without_H      Graph_Hash_Ligand_without_XH  \\\n",
       "0  de1136ccc9f1a20bb65275e3db4200d1  cf794afe3aca095cb66e4686e2c400e9   \n",
       "1  d4f3d1d61e49aeb0a0ac5b8b146d86cc  de75f5edfabdb0477e652512e4287161   \n",
       "2  4973f8f4fe2953d0cd36790f18f93ec6  0c891e5805b76e96da6ba1df9bddd4b5   \n",
       "3  3f4a40869b0294b5c284a65d20a3b274  92988d01351387cb00626cb5652e8fc3   \n",
       "4  3e1ceb0125d14567937ae2291ce697a7  e491c8dae119d25956bda1315728fc54   \n",
       "\n",
       "   Hemilabile Connecting_Atom_Indices Connecting_Atom_Indices_without_H  \\\n",
       "0        True                    [11]                               [7]   \n",
       "1       False                     [0]                               [0]   \n",
       "2        True              [1, 4, 13]                         [1, 4, 7]   \n",
       "3        True                     [0]                               [0]   \n",
       "4        True                 [9, 11]                            [5, 7]   \n",
       "\n",
       "  Connecting_Atom_Indices_without_X Connecting_Atom_Indices_without_XH  \\\n",
       "0                              [11]                                [7]   \n",
       "1                               [0]                                [0]   \n",
       "2                        [0, 3, 12]                          [0, 3, 6]   \n",
       "3                               [0]                                [0]   \n",
       "4                           [9, 10]                             [5, 6]   \n",
       "\n",
       "  SMILES_without_X_molsimplify SMILES_without_X_rdkit  Occurrences  \n",
       "0         Clc1cccc(c1)C(=O)[O]  O=C([O-])c1cccc(Cl)c1           33  \n",
       "1                            O                      O        34348  \n",
       "2                      NCCNCCN                NCCNCCN          729  \n",
       "3               CC1=CC=[C]C=C1            Cc1cc[c]cc1          175  \n",
       "4              S=C1[CH]C=CC=N1           [S-]c1ccccn1          264  "
      ]
     },
     "execution_count": 203,
     "metadata": {},
     "output_type": "execute_result"
    }
   ],
   "source": [
    "df = pd.read_csv('test_ligands.csv')\n",
    "df"
   ]
  },
  {
   "cell_type": "code",
   "execution_count": 200,
   "id": "33d70693-16eb-4df4-ac4b-d0abf3906515",
   "metadata": {},
   "outputs": [],
   "source": [
    "def get_metal_coords_from_mol2(mol2block):\n",
    "    for s in mol2block.split('\\n'):\n",
    "        if 'X1' in s:\n",
    "            coords = np.array([float(p) for p in s.split('\\t')[1].split()[:3]])\n",
    "    return coords"
   ]
  },
  {
   "cell_type": "code",
   "execution_count": 213,
   "id": "eb9ec283-c021-401a-acc3-47daf07fd9ed",
   "metadata": {},
   "outputs": [],
   "source": [
    "def mol_with_metal(mol2block, mol2block_with_metal):\n",
    "    mol = Chem.MolFromMol2Block(mol2block)\n",
    "    m = Chem.RWMol(mol)\n",
    "    metal_idx = m.AddAtom(Chem.Atom(26))\n",
    "    coords = get_metal_coords_from_mol2(mol2block_with_metal)\n",
    "    m.GetConformer().SetAtomPosition(metal_idx, coords)\n",
    "    return m.GetMol()"
   ]
  },
  {
   "cell_type": "code",
   "execution_count": 214,
   "id": "8663841f-40a5-4dd2-b8cb-09ed675f4742",
   "metadata": {},
   "outputs": [],
   "source": [
    "new_df = df.apply(lambda x: mol_with_metal(x['Ligand_mol2_Strings_without_X'], x['Ligand_mol2_Strings']), axis=1)"
   ]
  },
  {
   "cell_type": "code",
   "execution_count": 215,
   "id": "2974041a-c3ea-41d2-9162-6670c5901a34",
   "metadata": {},
   "outputs": [
    {
     "data": {
      "image/png": "[encoded data removed]",
      "text/plain": [
       "<PIL.Image.Image image mode=RGBA size=1000x200>"
      ]
     },
     "execution_count": 215,
     "metadata": {},
     "output_type": "execute_result"
    }
   ],
   "source": [
    "Chem.Draw.MolsToImage(new_df.values)"
   ]
  },
  {
   "cell_type": "code",
   "execution_count": 220,
   "id": "6fefa4e8-6f2c-4df9-812d-6faf5ed76648",
   "metadata": {},
   "outputs": [
    {
     "data": {
      "text/plain": [
       "<__main__.Molgraph at 0x7fa668b7b4c0>"
      ]
     },
     "execution_count": 220,
     "metadata": {},
     "output_type": "execute_result"
    }
   ],
   "source": [
    "Molgraph(rdmol_to_data(new_df[3]).rdmol)"
   ]
  },
  {
   "cell_type": "code",
   "execution_count": 99,
   "id": "3348f06e-a982-40e5-9ec8-bb718070aed2",
   "metadata": {},
   "outputs": [],
   "source": [
    "def rdmol_to_data(mol, smiles=None):\n",
    "    assert mol.GetNumConformers() == 1\n",
    "    N = mol.GetNumAtoms()\n",
    "\n",
    "    pos = torch.tensor(mol.GetConformer(0).GetPositions(), dtype=torch.float32)\n",
    "\n",
    "    atomic_number = []\n",
    "    aromatic = []\n",
    "    sp = []\n",
    "    sp2 = []\n",
    "    sp3 = []\n",
    "    num_hs = []\n",
    "    for atom in mol.GetAtoms():\n",
    "        atomic_number.append(atom.GetAtomicNum())\n",
    "        aromatic.append(1 if atom.GetIsAromatic() else 0)\n",
    "        hybridization = atom.GetHybridization()\n",
    "        # sp.append(1 if hybridization == HybridizationType.SP else 0)\n",
    "        # sp2.append(1 if hybridization == HybridizationType.SP2 else 0)\n",
    "        # sp3.append(1 if hybridization == HybridizationType.SP3 else 0)\n",
    "\n",
    "    z = torch.tensor(atomic_number, dtype=torch.long)\n",
    "\n",
    "    row, col, edge_type = [], [], []\n",
    "    for bond in mol.GetBonds():\n",
    "        start, end = bond.GetBeginAtomIdx(), bond.GetEndAtomIdx()\n",
    "        row += [start, end]\n",
    "        col += [end, start]\n",
    "        edge_type += 2 * [BOND_TYPES[bond.GetBondType()]]\n",
    "\n",
    "    edge_index = torch.tensor([row, col], dtype=torch.long)\n",
    "    edge_type = torch.tensor(edge_type)\n",
    "\n",
    "    perm = (edge_index[0] * N + edge_index[1]).argsort()\n",
    "    edge_index = edge_index[:, perm]\n",
    "    edge_type = edge_type[perm]\n",
    "\n",
    "    row, col = edge_index\n",
    "    hs = (z == 1).to(torch.float32)\n",
    "\n",
    "    num_hs = scatter(hs[row], col, dim_size=N, reduce='sum').tolist()\n",
    "\n",
    "    if smiles is None:\n",
    "        smiles = Chem.MolToSmiles(mol)\n",
    "\n",
    "    data = Data(atom_type=z, pos=pos, edge_index=edge_index, edge_type=edge_type,\n",
    "                rdmol=copy.deepcopy(mol), smiles=smiles)\n",
    "    #data.nx = to_networkx(data, to_undirected=True)\n",
    "\n",
    "    return data"
   ]
  },
  {
   "cell_type": "code",
   "execution_count": 103,
   "id": "7725634b-bf12-45e9-8eba-c84c0d5d57a1",
   "metadata": {},
   "outputs": [],
   "source": [
    "from rdkit.Chem.rdchem import BondType as BT\n",
    "\n",
    "BOND_TYPES = {t: i for i, t in enumerate(BT.names.values())}\n",
    "from torch_scatter import scatter\n",
    "from torch_geometric.data import Data"
   ]
  },
  {
   "cell_type": "code",
   "execution_count": 124,
   "id": "52d27dc1-6939-4510-ac1e-49b25724a70b",
   "metadata": {},
   "outputs": [
    {
     "data": {
      "text/plain": [
       "Data(edge_index=[2, 20], pos=[11, 3], atom_type=[11], edge_type=[20], rdmol=<rdkit.Chem.rdchem.Mol object at 0x7fa66b2fba50>, smiles='O=C([O-])c1cccc(Cl)c1.[Fe]')"
      ]
     },
     "execution_count": 124,
     "metadata": {},
     "output_type": "execute_result"
    }
   ],
   "source": [
    "d = rdmol_to_data(mol)\n",
    "d"
   ]
  },
  {
   "cell_type": "code",
   "execution_count": 189,
   "id": "8f0db931-8758-4218-ad9f-dcbe15a9233e",
   "metadata": {},
   "outputs": [],
   "source": [
    "from rdkit import Chem \n",
    "from rdkit.Chem import AllChem\n",
    "from EcConf.utils.utils_np import *\n",
    "from EcConf.comparm import *\n",
    "import copy\n",
    "import torch \n",
    "import networkx as nx\n",
    "from EcConf.utils.utils_graphroute import *\n",
    "from EcConf.utils.utils_rdkit import *\n",
    "import random \n",
    "\n",
    "class Molgraph:\n",
    "    def __init__(self,rdkitmol,boltzmannweight = None, totalenergy = None, atom_type = None, edge_index = None, edge_type = None, idx = None, smiles='',RemoveHs=True):\n",
    "        self.smiles=smiles\n",
    "        self.atoms=[atom.GetAtomicNum() for atom in rdkitmol.GetAtoms()] #每一个原子的边个数\n",
    "        self.atoms=np.array(self.atoms)\n",
    "        self.chiraltags=[GP.chiral_types.index(atom.GetChiralTag()) for atom in rdkitmol.GetAtoms()]\n",
    "        self.chiraltags=np.array(self.chiraltags)\n",
    "        self.natoms=len(self.atoms)\n",
    "        self.adjs=np.zeros((self.natoms,self.natoms))\n",
    "        \n",
    "        #增加boltzmannweight，totalenergy字段，用于标识构象在分子中的位置\n",
    "        self.boltzmannweight = boltzmannweight\n",
    "        self.totalenergy     = totalenergy\n",
    "        self.atom_type       = atom_type\n",
    "        self.edge_index      = edge_index #这个是局部编号的，里面的原子编号是从0开始到|all_atoms| - 1, 所以该值可以不保存，但也没问题，因为早晚都要局部编号的\n",
    "        self.edge_type       = edge_type\n",
    "        self.idx             = idx\n",
    "        \n",
    "            \n",
    "        for bond in rdkitmol.GetBonds():\n",
    "            a1=bond.GetBeginAtom().GetIdx()\n",
    "            a2=bond.GetEndAtom().GetIdx()\n",
    "            bt=bond.GetBondType() \n",
    "            ch=GP.bond_types.index(bt)\n",
    "            self.adjs[a1,a2]=ch+1\n",
    "            self.adjs[a2,a1]=ch+1\n",
    "        #self.zmats=np_adjs_to_zmat(adjs_onek)\n",
    "        self.coords=np.array(rdkitmol.GetConformer(0).GetPositions())\n",
    "        self.Standardrize()\n",
    "        return \n",
    "    \n",
    "    def RemoveHs(self):\n",
    "        noH_idx=np.array([i for i in range(len(self.atoms)) if self.atoms[i]!=1])\n",
    "        n_heavy_atoms=len(noH_idx)\n",
    "        coords=self.coords[noH_idx]\n",
    "        adjs=self.adjs[np.ix_(noH_idx,noH_idx)]\n",
    "        self.atoms=self.atoms[noH_idx]\n",
    "\n",
    "        self.adjs=adjs\n",
    "        self.chiraltags=self.chiraltags[noH_idx]        \n",
    "        self.coords=coords\n",
    "        self.natoms=n_heavy_atoms\n",
    "        return\n",
    "    \n",
    "    def PermIndex(self,mode='random'):\n",
    "        if mode=='random':\n",
    "            start_id=random.choice(np.arange(self.natoms).astype(int))\n",
    "        else:\n",
    "            start_id=0\n",
    "        graph=nx.Graph()\n",
    "        bonds=[]\n",
    "        for i in range(self.natoms):\n",
    "            for j in range(i+1,self.natoms):\n",
    "                if self.adjs[i,j]!=0:\n",
    "                    bonds.append((i,j))\n",
    "        graph.add_edges_from(bonds)\n",
    "        atom_order=bfs_seq(graph,start_id)\n",
    "        self.atoms=self.atoms[np.ix_(atom_order)]\n",
    "        self.chiraltags=self.chiraltags[np.ix_(atom_order)]\n",
    "        self.coords=self.coords[np.ix_(atom_order)]\n",
    "        self.adjs=self.adjs[np.ix_(atom_order,atom_order)]\n",
    "        return\n",
    "     \n",
    "    def Generate_Zmats(self):\n",
    "        adjs_onek=Adjs_to_Onek(self.adjs)\n",
    "        zmats=np_adjs_to_zmat(adjs_onek)[:,:4]\n",
    "        return zmats\n",
    "    \n",
    "    def Standardrize(self):\n",
    "        self.RemoveHs()\n",
    "        # self.PermIndex(mode='random')\n",
    "        self.PermIndex(0)\n",
    "        self.zmats=self.Generate_Zmats()\n",
    "        return \n",
    "\n",
    "    def Get_3D_Graph_Tensor(self,max_atoms= None):\n",
    "        if max_atoms:\n",
    "            adjs=torch.zeros((max_atoms,max_atoms)).long()\n",
    "            zmats=torch.zeros((max_atoms,4)).long()\n",
    "            coords=torch.zeros((max_atoms,3))\n",
    "            masks=torch.zeros(max_atoms).bool()\n",
    "            masks[:self.natoms]=True\n",
    "            if not GP.if_chiral:\n",
    "                atom_idx=torch.zeros(max_atoms).long()\n",
    "                atom_chiraltags=torch.zeros(max_atoms).long()\n",
    "                atom_idx_=Atoms_to_Idx(self.atoms,GP.atom_types)\n",
    "                atom_idx[:self.natoms]=torch.Tensor(atom_idx_).long()\n",
    "                atom_chiraltags[:self.natoms]=torch.Tensor(self.chiraltags).long()\n",
    "            else:\n",
    "                atom_idx = torch.zeros((max_atoms,len(GP.atom_types)))\n",
    "                atom_chiraltags = torch.zeros((max_atoms,len(GP.chiral_types)))\n",
    "                atom_idx_ = Atoms_to_Onek(self.atoms,GP.atom_types)\n",
    "                #print (self.__dict__.keys())\n",
    "                atom_chiraltags_ = Chiraltag_to_Onek(self.chiraltags,GP.chiral_types)\n",
    "                atom_idx[:self.natoms] = torch.Tensor(atom_idx_)\n",
    "                atom_chiraltags[:self.natoms] = torch.Tensor(atom_chiraltags_)\n",
    "            #print (self.natoms,self.atoms,self.zmats,self.adjs)\n",
    "            zmats[:self.natoms] = torch.Tensor(self.zmats).long()\n",
    "            adjs[:self.natoms,:self.natoms] = torch.Tensor(self.adjs).long()\n",
    "            coords[:self.natoms] = torch.Tensor(self.coords)\n",
    "            return atom_idx, atom_chiraltags, adjs, coords, zmats, masks\n",
    "        else:\n",
    "            #print (self.natoms)\n",
    "            atom_idx_=Atoms_to_Idx(self.atoms,GP.atom_types)\n",
    "            return torch.Tensor(atom_idx_).long(),torch.Tensor(self.chiraltags),torch.Tensor(self.adjs).long(),torch.Tensor(self.coords),torch.Tensor(self.zmats).long(),torch.ones(self.natoms).bool()    \n",
    "\n",
    "    \n",
    "    def Trans_to_Rdkitmol(self):\n",
    "        molecule=Chem.RWMol()\n",
    "        for j in range(self.natoms):\n",
    "            new_atom=Chem.Atom(int(self.atoms[j]))\n",
    "            molecule_idx=molecule.AddAtom(new_atom)\n",
    "        adjs=copy.deepcopy(self.adjs)\n",
    "        row,col=np.diag_indices_from(adjs)\n",
    "        adjs[row,col]=0\n",
    "        idx1,idx2=np.where(adjs!=0)\n",
    "        for id1,id2 in zip(idx1,idx2):\n",
    "            if id1<id2:\n",
    "                molecule.AddBond(int(id1),int(id2),GP.bond_types[int(adjs[id1,id2])-1])\n",
    "        mol=molecule.GetMol()\n",
    "        Chem.SanitizeMol(mol)\n",
    "        AllChem.Compute2DCoords(mol)\n",
    "        mol=Change_mol_xyz(mol,self.coords)\n",
    "        return mol\n",
    "    def Update_Coords(self,coords):\n",
    "        self.coords=coords\n",
    "\n",
    "def Adjs_to_Onek(adjs,nchannels=3):\n",
    "    # nchannels=int(np.max(adjs)-1)\n",
    "    nchannels=4\n",
    "    adjs_onek=np.zeros((adjs.shape[0],adjs.shape[0],nchannels))\n",
    "    idx1,idx2=np.where(adjs)\n",
    "    channel_idx=adjs[idx1,idx2].astype(int)-1\n",
    "    for id1,id2,cid in zip(idx1,idx2,channel_idx):\n",
    "        adjs_onek[id1,id2,cid]=1\n",
    "    return adjs_onek.astype(int)\n",
    "\n",
    "def Atoms_to_Idx(atoms,possible_atom_types=[1,6,7,8,9,15,16,17,35,53]):\n",
    "    atom_idx_=[possible_atom_types.index(int(a))+1 for a in atoms] \n",
    "    return atom_idx_\n",
    "\n",
    "def Atoms_to_Onek(atoms,possible_atom_types=[1,6,7,8,9,15,16,17,35,53]):\n",
    "    atoms_onek=np.zeros((len(atoms),len(possible_atom_types)))\n",
    "    for i in range(len(atoms)):\n",
    "        atoms_onek[i][possible_atom_types.index(atoms[i])]=1\n",
    "    return atoms_onek.astype(int)\n",
    "def Chiraltag_to_Onek(chiraltags,chiral_types=[ ChiralType.CHI_UNSPECIFIED, ChiralType.CHI_TETRAHEDRAL_CW, ChiralType.CHI_TETRAHEDRAL_CCW, ChiralType.CHI_OTHER, ChiralType.CHI_TETRAHEDRAL, ChiralType.CHI_ALLENE, ChiralType.CHI_SQUAREPLANAR, ChiralType.CHI_TRIGONALBIPYRAMIDAL,ChiralType.CHI_OCTAHEDRAL]):\n",
    "    ntags=len(chiral_types)\n",
    "    chiral_onek=np.zeros((len(chiraltags),ntags))\n",
    "    for i in range(len(chiraltags)):\n",
    "        chiral_onek[i][chiraltags[i]]=1\n",
    "    return chiral_onek.astype(int)"
   ]
  },
  {
   "cell_type": "code",
   "execution_count": 162,
   "id": "08542e83-7ac8-4ac5-b842-3fced239c946",
   "metadata": {},
   "outputs": [
    {
     "data": {
      "text/plain": [
       "tensor([12, 12,  1, 12, 12, 12, 12,  1, 12, 12, 12, 12, 12, 12,  1,  1,  2,  1,\n",
       "         2,  1])"
      ]
     },
     "execution_count": 162,
     "metadata": {},
     "output_type": "execute_result"
    }
   ],
   "source": [
    "d.edge_type"
   ]
  },
  {
   "cell_type": "code",
   "execution_count": 163,
   "id": "d1de9289-09ff-4284-9cac-a47d953ea494",
   "metadata": {},
   "outputs": [
    {
     "data": {
      "text/plain": [
       "tensor([[0, 0, 0, 1, 1, 2, 2, 2, 3, 3, 4, 4, 5, 5, 6, 6, 6, 7, 8, 9],\n",
       "        [1, 5, 6, 0, 2, 1, 3, 9, 2, 4, 3, 5, 0, 4, 0, 7, 8, 6, 6, 2]])"
      ]
     },
     "execution_count": 163,
     "metadata": {},
     "output_type": "execute_result"
    }
   ],
   "source": [
    "d.edge_index"
   ]
  },
  {
   "cell_type": "code",
   "execution_count": 172,
   "id": "a09079e9-4303-407a-9344-cc85dc23de60",
   "metadata": {},
   "outputs": [
    {
     "data": {
      "image/png": "[encoded data removed]",
      "text/plain": [
       "<rdkit.Chem.rdchem.Mol at 0x7fa66b2fba50>"
      ]
     },
     "execution_count": 172,
     "metadata": {},
     "output_type": "execute_result"
    }
   ],
   "source": [
    "d.rdmol"
   ]
  },
  {
   "cell_type": "code",
   "execution_count": 190,
   "id": "594a467b-91d9-42d7-bf3f-49153c3da8c4",
   "metadata": {},
   "outputs": [],
   "source": [
    "a = Molgraph(mol, 0, 0, d.atom_type, edge_index=d.edge_index, edge_type=d.edge_type, idx=0, smiles=d.smiles, RemoveHs=False)"
   ]
  },
  {
   "cell_type": "code",
   "execution_count": 191,
   "id": "e4f04b42-aa03-40b6-ad96-e38df81a4bd4",
   "metadata": {},
   "outputs": [
    {
     "data": {
      "text/plain": [
       "array([[0., 0., 0., 0.],\n",
       "       [1., 0., 0., 0.],\n",
       "       [2., 0., 1., 0.],\n",
       "       [3., 0., 1., 2.],\n",
       "       [4., 1., 0., 2.],\n",
       "       [5., 2., 0., 1.],\n",
       "       [6., 3., 0., 1.],\n",
       "       [7., 3., 0., 1.],\n",
       "       [8., 4., 1., 0.],\n",
       "       [9., 4., 1., 0.]])"
      ]
     },
     "execution_count": 191,
     "metadata": {},
     "output_type": "execute_result"
    }
   ],
   "source": [
    "a.zmats"
   ]
  },
  {
   "cell_type": "code",
   "execution_count": null,
   "id": "f36bc706-02e0-48f5-9866-f64f6e26243a",
   "metadata": {},
   "outputs": [],
   "source": []
  },
  {
   "cell_type": "code",
   "execution_count": 142,
   "id": "e0d22318-002c-4bce-bea0-2ded97cb5621",
   "metadata": {},
   "outputs": [
    {
     "data": {
      "text/plain": [
       "(array([0, 1, 1, 1, 2, 2, 2, 3, 4, 4, 5, 5, 6, 6, 6, 7, 7, 8, 8, 9]),\n",
       " array([1, 0, 2, 3, 1, 4, 5, 1, 2, 6, 2, 7, 4, 8, 9, 5, 8, 6, 7, 6]),\n",
       " array([0, 0, 0, 1, 0, 3, 3, 1, 3, 3, 3, 3, 3, 3, 0, 3, 3, 3, 3, 0]))"
      ]
     },
     "execution_count": 142,
     "metadata": {},
     "output_type": "execute_result"
    }
   ],
   "source": [
    "adjs = a.adjs\n",
    "idx1,idx2=np.where(a.adjs)\n",
    "channel_idx=adjs[idx1,idx2].astype(int)-1\n",
    "idx1, idx2, channel_idx"
   ]
  },
  {
   "cell_type": "code",
   "execution_count": null,
   "id": "f8f27e07-f3fd-48c1-8ceb-47b894cd202f",
   "metadata": {},
   "outputs": [],
   "source": []
  }
 ],
 "metadata": {
  "kernelspec": {
   "display_name": "Python 3 (ipykernel)",
   "language": "python",
   "name": "python3"
  },
  "language_info": {
   "codemirror_mode": {
    "name": "ipython",
    "version": 3
   },
   "file_extension": ".py",
   "mimetype": "text/x-python",
   "name": "python",
   "nbconvert_exporter": "python",
   "pygments_lexer": "ipython3",
   "version": "3.9.15"
  }
 },
 "nbformat": 4,
 "nbformat_minor": 5
}
